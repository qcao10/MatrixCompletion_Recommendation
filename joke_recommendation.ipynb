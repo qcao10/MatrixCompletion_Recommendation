{
 "cells": [
  {
   "cell_type": "code",
   "execution_count": 0,
   "metadata": {
    "colab": {},
    "colab_type": "code",
    "collapsed": true,
    "id": "0sT5TScreZYi"
   },
   "outputs": [],
   "source": [
    "import os\n",
    "import numpy as np\n",
    "import matplotlib.pyplot as plt"
   ]
  },
  {
   "cell_type": "code",
   "execution_count": 0,
   "metadata": {
    "colab": {},
    "colab_type": "code",
    "collapsed": true,
    "id": "M97TOOdge3cB"
   },
   "outputs": [],
   "source": [
    "n = 24983 #users\n",
    "m = 100 # jokes\n"
   ]
  },
  {
   "cell_type": "code",
   "execution_count": 0,
   "metadata": {
    "colab": {},
    "colab_type": "code",
    "collapsed": true,
    "id": "O3XJlhLYfc1p"
   },
   "outputs": [],
   "source": [
    "#mean square error\n",
    "def mse(n,m,U,V,S_mat, S_dict, average = False):\n",
    "    loss = 0\n",
    "    num_elements = S_mat.nnz\n",
    "    if not average:\n",
    "        for (k,v) in S_dict.items():\n",
    "            loss += (U[k[0],:].dot(V[k[1],:]) - v)**2\n",
    "    else:\n",
    "        for (k,v) in S_dict.items():\n",
    "            loss += (U[k[0]]*V[k[1]] - v)**2      \n",
    "    return (loss/num_elements)\n",
    "    \n",
    "    "
   ]
  },
  {
   "cell_type": "code",
   "execution_count": 0,
   "metadata": {
    "colab": {},
    "colab_type": "code",
    "collapsed": true,
    "id": "aI86NfGUJlir"
   },
   "outputs": [],
   "source": [
    "def mae(n,m,U,V,S_mat, S_dict, average = False):\n",
    "    loss = 0\n",
    "    num_elements = S_mat.nnz\n",
    "    if not average:\n",
    "        for (k,v) in S_dict.items():\n",
    "            loss += np.abs(U[k[0],:].dot(V[k[1],:]) - v)\n",
    "    else:\n",
    "        for (k,v) in S_dict.items():\n",
    "            loss += np.abs(U[k[0]]*V[k[1]] - v)      \n",
    "    return (loss/num_elements)"
   ]
  },
  {
   "cell_type": "code",
   "execution_count": 0,
   "metadata": {
    "colab": {},
    "colab_type": "code",
    "collapsed": true,
    "id": "hC-am1ericXf"
   },
   "outputs": [],
   "source": [
    "#mean abs error\n",
    "def mae1(n,m,U,V,S_mat,S_dict, average = False):\n",
    "    loss = 0\n",
    "    for i in range(n): #n users\n",
    "        user_i = S_mat.getrow(i)\n",
    "        N = user_i.size\n",
    "        sum_user_i = 0\n",
    "        if not average:\n",
    "            for j in range(m): #j ratings\n",
    "                if (i,j) in S_dict:\n",
    "                    sum_user_i += np.abs(U[i,:].dot(V[j,:]) - S_dict[(i,j)]) #S_mat.todok()[i,j])\n",
    "        else:\n",
    "            for j in range(m): # j ratings\n",
    "                if (i,j) in S_dict:\n",
    "                    sum_user_i += np.abs(U[i]*V[j] - S_dict[(i,j)]) #- S_mat.todok()[i,j])\n",
    "        loss += sum_user_i"
   ]
  },
  {
   "cell_type": "code",
   "execution_count": 0,
   "metadata": {
    "colab": {},
    "colab_type": "code",
    "collapsed": true,
    "id": "CoCCSF4xijEH"
   },
   "outputs": [],
   "source": [
    "# import sparse module from SciPy package \n",
    "from scipy import sparse\n",
    "# import uniform module to create random numbers\n",
    "from scipy.stats import uniform\n"
   ]
  },
  {
   "cell_type": "code",
   "execution_count": 0,
   "metadata": {
    "colab": {},
    "colab_type": "code",
    "collapsed": true,
    "id": "3K7Vu2m_km4-"
   },
   "outputs": [],
   "source": [
    "#Parse to sparse matrix\n",
    "i_index = []\n",
    "j_index = []\n",
    "s_rating = []\n",
    "\n",
    "user_dict = {}\n",
    "joke_dict = {}\n",
    "with open('jester/train.txt', 'r') as f:\n",
    "    lines = f.readlines()\n",
    "    for line in lines:\n",
    "        token = line.strip().split(',')\n",
    "        i_index.append(int(token[0])-1)\n",
    "        j_index.append(int(token[1])-1)\n",
    "        s_rating.append(float(token[2]))\n",
    "        if int(token[0])-1 not in user_dict:\n",
    "            user_dict[int(token[0])-1] = [int(token[1])-1]\n",
    "        else:\n",
    "            user_dict[int(token[0])-1].append(int(token[1])-1)\n",
    "            \n",
    "        if int(token[1])-1 not in joke_dict:\n",
    "            joke_dict[int(token[1])-1] = [int(token[0])-1]\n",
    "        else:\n",
    "            joke_dict[int(token[1])-1].append(int(token[0])-1)        \n"
   ]
  },
  {
   "cell_type": "code",
   "execution_count": 0,
   "metadata": {
    "colab": {},
    "colab_type": "code",
    "collapsed": true,
    "id": "NP8B4BtkneEM"
   },
   "outputs": [],
   "source": [
    "S_mat = sparse.coo_matrix((s_rating, (i_index, j_index)))\n"
   ]
  },
  {
   "cell_type": "code",
   "execution_count": 0,
   "metadata": {
    "colab": {},
    "colab_type": "code",
    "collapsed": true,
    "id": "5JlLu5tswUoi"
   },
   "outputs": [],
   "source": [
    "#Parse to sparse matrix (TEST)\n",
    "i_index = []\n",
    "j_index = []\n",
    "s_rating = []\n",
    "\n",
    "with open('jester/test.txt', 'r') as f:\n",
    "    lines = f.readlines()\n",
    "    for line in lines:\n",
    "        token = line.strip().split(',')\n",
    "        i_index.append(int(token[0])-1)\n",
    "        j_index.append(int(token[1])-1)\n",
    "        s_rating.append(float(token[2])) "
   ]
  },
  {
   "cell_type": "code",
   "execution_count": 0,
   "metadata": {
    "colab": {},
    "colab_type": "code",
    "collapsed": true,
    "id": "Sw5wKkDZhqUq"
   },
   "outputs": [],
   "source": [
    "S_mat_test = sparse.coo_matrix((s_rating, (i_index, j_index)))"
   ]
  },
  {
   "cell_type": "code",
   "execution_count": 0,
   "metadata": {
    "colab": {},
    "colab_type": "code",
    "collapsed": true,
    "id": "qp4fBU4AsmNM"
   },
   "outputs": [],
   "source": [
    "import scipy\n",
    "from scipy.sparse.linalg import svds, eigs"
   ]
  },
  {
   "cell_type": "code",
   "execution_count": 0,
   "metadata": {
    "colab": {},
    "colab_type": "code",
    "collapsed": true,
    "id": "4gwb5d7JsyT0"
   },
   "outputs": [],
   "source": [
    "d = [1,2,5,10,20,50]\n",
    "U, S, VT = svds(S_mat, k=d[1])"
   ]
  },
  {
   "cell_type": "code",
   "execution_count": 0,
   "metadata": {
    "colab": {},
    "colab_type": "code",
    "collapsed": true,
    "id": "VD0LK_QZknn-"
   },
   "outputs": [],
   "source": [
    "#Parse to dictionary\n",
    "S_dict = {}\n",
    "with open('jester/train.txt', 'r') as f:\n",
    "    lines = f.readlines()\n",
    "    for line in lines:\n",
    "        token = line.strip().split(',')\n",
    "        S_dict[(int(token[0])-1, int(token[1])-1)] = float(token[2])"
   ]
  },
  {
   "cell_type": "code",
   "execution_count": 0,
   "metadata": {
    "colab": {},
    "colab_type": "code",
    "collapsed": true,
    "id": "KOVDKAdorHgP"
   },
   "outputs": [],
   "source": [
    "S_dict_test = {}\n",
    "with open('jester/test.txt', 'r') as f:\n",
    "    lines = f.readlines()\n",
    "    for line in lines:\n",
    "        token = line.strip().split(',')\n",
    "        S_dict_test[(int(token[0])-1, int(token[1])-1)] = float(token[2])"
   ]
  },
  {
   "cell_type": "code",
   "execution_count": 0,
   "metadata": {
    "colab": {
     "base_uri": "https://localhost:8080/",
     "height": 347
    },
    "colab_type": "code",
    "id": "UE97CQN7Jgc7",
    "outputId": "d5cfd31a-908c-45ab-a488-2e1478e719c9"
   },
   "outputs": [
    {
     "name": "stdout",
     "output_type": "stream",
     "text": [
      "mse loss: 369715737297.4861\n",
      "mse loss: 6.2374741571921744e+75\n"
     ]
    },
    {
     "name": "stderr",
     "output_type": "stream",
     "text": [
      "/usr/local/lib/python3.6/dist-packages/ipykernel_launcher.py:6: RuntimeWarning: overflow encountered in double_scalars\n",
      "  \n"
     ]
    },
    {
     "name": "stdout",
     "output_type": "stream",
     "text": [
      "mse loss: inf\n"
     ]
    },
    {
     "name": "stderr",
     "output_type": "stream",
     "text": [
      "/usr/local/lib/python3.6/dist-packages/ipykernel_launcher.py:13: RuntimeWarning: overflow encountered in multiply\n",
      "  del sys.path[0]\n"
     ]
    },
    {
     "ename": "KeyboardInterrupt",
     "evalue": "ignored",
     "output_type": "error",
     "traceback": [
      "\u001b[0;31m---------------------------------------------------------------------------\u001b[0m",
      "\u001b[0;31mKeyboardInterrupt\u001b[0m                         Traceback (most recent call last)",
      "\u001b[0;32m<ipython-input-18-6ea0b69490e1>\u001b[0m in \u001b[0;36m<module>\u001b[0;34m()\u001b[0m\n\u001b[1;32m     20\u001b[0m         \u001b[0mgradui\u001b[0m \u001b[0;34m=\u001b[0m \u001b[0;36m0\u001b[0m\u001b[0;34m\u001b[0m\u001b[0;34m\u001b[0m\u001b[0m\n\u001b[1;32m     21\u001b[0m         \u001b[0;32mfor\u001b[0m \u001b[0mjoke_idx\u001b[0m \u001b[0;32min\u001b[0m \u001b[0muser_dict\u001b[0m\u001b[0;34m[\u001b[0m\u001b[0mi\u001b[0m\u001b[0;34m]\u001b[0m\u001b[0;34m:\u001b[0m\u001b[0;34m\u001b[0m\u001b[0;34m\u001b[0m\u001b[0m\n\u001b[0;32m---> 22\u001b[0;31m             \u001b[0mgradui\u001b[0m \u001b[0;34m+=\u001b[0m \u001b[0;34m(\u001b[0m\u001b[0mU\u001b[0m\u001b[0;34m[\u001b[0m\u001b[0mi\u001b[0m\u001b[0;34m,\u001b[0m\u001b[0;34m:\u001b[0m\u001b[0;34m]\u001b[0m\u001b[0;34m.\u001b[0m\u001b[0mdot\u001b[0m\u001b[0;34m(\u001b[0m\u001b[0mV\u001b[0m\u001b[0;34m[\u001b[0m\u001b[0mjoke_idx\u001b[0m\u001b[0;34m,\u001b[0m\u001b[0;34m:\u001b[0m\u001b[0;34m]\u001b[0m\u001b[0;34m)\u001b[0m \u001b[0;34m-\u001b[0m \u001b[0mS_dict\u001b[0m\u001b[0;34m[\u001b[0m\u001b[0;34m(\u001b[0m\u001b[0mi\u001b[0m\u001b[0;34m,\u001b[0m \u001b[0mjoke_idx\u001b[0m\u001b[0;34m)\u001b[0m\u001b[0;34m]\u001b[0m\u001b[0;34m)\u001b[0m\u001b[0;34m*\u001b[0m\u001b[0mV\u001b[0m\u001b[0;34m[\u001b[0m\u001b[0mjoke_idx\u001b[0m\u001b[0;34m,\u001b[0m\u001b[0;34m:\u001b[0m\u001b[0;34m]\u001b[0m\u001b[0;34m\u001b[0m\u001b[0;34m\u001b[0m\u001b[0m\n\u001b[0m\u001b[1;32m     23\u001b[0m         \u001b[0mgradui\u001b[0m \u001b[0;34m+=\u001b[0m \u001b[0mlambda_\u001b[0m \u001b[0;34m*\u001b[0m\u001b[0mU\u001b[0m\u001b[0;34m[\u001b[0m\u001b[0mi\u001b[0m\u001b[0;34m,\u001b[0m\u001b[0;34m:\u001b[0m\u001b[0;34m]\u001b[0m\u001b[0;34m\u001b[0m\u001b[0;34m\u001b[0m\u001b[0m\n\u001b[1;32m     24\u001b[0m         \u001b[0mU\u001b[0m\u001b[0;34m[\u001b[0m\u001b[0mi\u001b[0m\u001b[0;34m,\u001b[0m\u001b[0;34m:\u001b[0m\u001b[0;34m]\u001b[0m \u001b[0;34m-=\u001b[0m \u001b[0mlr\u001b[0m \u001b[0;34m*\u001b[0m \u001b[0mgradui\u001b[0m\u001b[0;34m\u001b[0m\u001b[0;34m\u001b[0m\u001b[0m\n",
      "\u001b[0;31mKeyboardInterrupt\u001b[0m: "
     ]
    }
   ],
   "source": [
    "# Method 3: This does not work, as learning rate for jokes and users should be different\n",
    "# Otherwise the loss will blow up\n",
    "# Recall that we have almost 25000 users and 100 jokes. \n",
    "# One way to fix it is to have different learning rate for U and V\n",
    "# Another way to fit it is to update at EVERY point in the dataset so we have A LOT OF updates\n",
    "\n",
    "lambda_ = 0.001\n",
    "lr = 0.01\n",
    "d = 2\n",
    "U = np.random.rand(n,d)\n",
    "V = np.random.rand(m,d)\n",
    "loss = []\n",
    "for iter in range(5):\n",
    "    #fix u update v\n",
    "    for j in range(m): #m jokes m = 100\n",
    "        gradvj = 0\n",
    "        for user_idx in joke_dict[j]:\n",
    "            gradvj += (U[user_idx,:].dot(V[j,:]) - S_dict[(user_idx, j)])*U[user_idx,:] \n",
    "        gradvj += lambda_ *V[j,:]\n",
    "        V[j,:] -= lr * gradvj\n",
    "    \n",
    "    \n",
    "    #fix v update u\n",
    "    for i in range(n): #n users n = 24983\n",
    "        gradui = 0\n",
    "        for joke_idx in user_dict[i]:\n",
    "            gradui += (U[i,:].dot(V[joke_idx,:]) - S_dict[(i, joke_idx)])*V[joke_idx,:] \n",
    "        gradui += lambda_ *U[i,:]\n",
    "        U[i,:] -= lr * gradui\n",
    "    \n",
    "    loss.append(mse(n,m,U,V,S_mat, S_dict,average = False))\n",
    "    print(\"mse loss:\", loss[iter])\n",
    "  \n",
    "  \n",
    "  #see that the loss blows up to inf below"
   ]
  },
  {
   "cell_type": "code",
   "execution_count": 0,
   "metadata": {
    "colab": {
     "base_uri": "https://localhost:8080/",
     "height": 185
    },
    "colab_type": "code",
    "id": "ZDKRBfYHtCQM",
    "outputId": "612cb652-eba6-46a4-f7c2-626698a9150b"
   },
   "outputs": [
    {
     "name": "stdout",
     "output_type": "stream",
     "text": [
      "mse loss: 90.79267127864394\n",
      "mse loss: 502.7719363774506\n",
      "mse loss: 96.29313864498629\n",
      "mse loss: 26.9224752560586\n",
      "mse loss: 25.56643415362606\n",
      "mse loss: 25.495813515080574\n",
      "mse loss: 25.461319536156726\n",
      "mse loss: 25.429872998795673\n",
      "mse loss: 25.398841925653855\n",
      "mse loss: 25.367822109440294\n"
     ]
    }
   ],
   "source": [
    "# We will try different learning rate here. Hopefully, the training loss will decrease\n",
    "# It decreases but at a very slow rate\n",
    "lambda_ = 0.001\n",
    "lr_v = 0.001\n",
    "lr_u = lr_v/(25000/100)\n",
    "d = 2\n",
    "U = np.random.rand(n,d)\n",
    "V = np.random.rand(m,d)\n",
    "loss = []\n",
    "for iter in range(10):\n",
    "    #fix u update v\n",
    "    for j in range(m): #m jokes m = 100\n",
    "        gradvj = 0\n",
    "        for user_idx in joke_dict[j]:\n",
    "            gradvj += (U[user_idx,:].dot(V[j,:]) - S_dict[(user_idx, j)])*U[user_idx,:] \n",
    "        gradvj += lambda_ *V[j,:]\n",
    "        V[j,:] -= lr_v * gradvj\n",
    "    \n",
    "    \n",
    "    #fix v update u\n",
    "    for i in range(n): #n users n = 24983\n",
    "        gradui = 0\n",
    "        for joke_idx in user_dict[i]:\n",
    "            gradui += (U[i,:].dot(V[joke_idx,:]) - S_dict[(i, joke_idx)])*V[joke_idx,:] \n",
    "        gradui += lambda_ *U[i,:]\n",
    "        U[i,:] -= lr_u * gradui\n",
    "    \n",
    "    loss.append(mse(n,m,U,V,S_mat, S_dict,average = False))\n",
    "    print(\"mse loss:\", loss[iter])\n",
    "  "
   ]
  },
  {
   "cell_type": "code",
   "execution_count": 0,
   "metadata": {
    "colab": {
     "base_uri": "https://localhost:8080/",
     "height": 353
    },
    "colab_type": "code",
    "id": "F3eogI1q0zdR",
    "outputId": "56a344ef-43fc-4427-efe1-ff3bcc1fb1b3"
   },
   "outputs": [
    {
     "name": "stdout",
     "output_type": "stream",
     "text": [
      "mse loss: 17.007361550597203\n",
      "mse loss: 16.916132924378413\n",
      "mse loss: 16.852868779140632\n",
      "mse loss: 16.807814657978604\n",
      "mse loss: 16.774881952982536\n",
      "mse loss: 16.750211290387576\n",
      "mse loss: 16.7313100527877\n",
      "mse loss: 16.71653315595992\n",
      "mse loss: 16.704770217578435\n",
      "mse loss: 16.6952550108353\n",
      "mse loss: 16.68744751217853\n",
      "mse loss: 16.6809595092653\n",
      "mse loss: 16.67550675003445\n",
      "mse loss: 16.670877550019423\n",
      "mse loss: 16.666911796590664\n",
      "mse loss: 16.663486645313302\n",
      "mse loss: 16.660506603808727\n",
      "mse loss: 16.657896543756838\n",
      "mse loss: 16.655596700476682\n",
      "mse loss: 16.653559043468\n"
     ]
    }
   ],
   "source": [
    "# We will try to update every joke and users (like Pascal suggests)\n",
    "# E.g: for each user i\n",
    "#          for each joke j of that user\n",
    "#              update the vector of user i \n",
    "# Yayyy, it is decreasing, Pascal is awesome\n",
    "# See if we can get to mse train around 16 \n",
    "# Yes, we do get to 16 \n",
    "lambda_ = 0.001\n",
    "lr = 0.001\n",
    "lr_v = 0.001\n",
    "lr_u = 0.01/(25000/100)\n",
    "d = 2\n",
    "#U = np.random.rand(n,d)\n",
    "#V = np.random.rand(m,d)\n",
    "loss = []\n",
    "for iter in range(20):\n",
    "    #fix u update v\n",
    "    for j in range(m): #m jokes m = 100\n",
    "        for user_idx in joke_dict[j]:\n",
    "            V[j,:] -= lr*((U[user_idx,:].dot(V[j,:]) - S_dict[(user_idx, j)])*U[user_idx,:] + lambda_*V[j,:])   \n",
    "    \n",
    "    #fix v update u\n",
    "    for i in range(n): #n users n = 24983\n",
    "        for joke_idx in user_dict[i]:\n",
    "            U[i,:] -= lr*((U[i,:].dot(V[joke_idx,:]) - S_dict[(i, joke_idx)])*V[joke_idx,:] + lambda_*U[i,:])\n",
    "    \n",
    "    loss.append(mse(n,m,U,V,S_mat, S_dict,average = False))\n",
    "    print(\"mse loss:\", loss[iter])"
   ]
  },
  {
   "cell_type": "code",
   "execution_count": 0,
   "metadata": {
    "colab": {
     "base_uri": "https://localhost:8080/",
     "height": 34
    },
    "colab_type": "code",
    "id": "18-ZxdfmuAl7",
    "outputId": "3f7cb636-7146-4c64-c4f2-3f09d484f6de"
   },
   "outputs": [
    {
     "data": {
      "text/plain": [
       "0.9570000000000001"
      ]
     },
     "execution_count": 29,
     "metadata": {
      "tags": []
     },
     "output_type": "execute_result"
    }
   ],
   "source": [
    "0.87*11/10"
   ]
  },
  {
   "cell_type": "code",
   "execution_count": 0,
   "metadata": {
    "colab": {
     "base_uri": "https://localhost:8080/",
     "height": 623
    },
    "colab_type": "code",
    "id": "k6eV6doFSLEj",
    "outputId": "cbd8304e-212f-4b60-9021-27e340c5ba3f"
   },
   "outputs": [
    {
     "name": "stdout",
     "output_type": "stream",
     "text": [
      "mse train loss: 0.5040337535148348\n",
      "mae train loss: 0.39250699012798224\n",
      "mse test loss: 79.5884305811604\n",
      "mae test loss: 6.568070098551902\n",
      "mse train loss: 0.46888482765191786\n",
      "mae train loss: 0.37465996688452485\n",
      "mse test loss: 78.4804289583015\n",
      "mae test loss: 6.515525015393599\n",
      "mse train loss: 0.439155476262745\n",
      "mae train loss: 0.35912577852411787\n",
      "mse test loss: 77.63721495476163\n",
      "mae test loss: 6.4738537701910746\n",
      "mse train loss: 0.4136429668771132\n",
      "mae train loss: 0.3454539046446195\n",
      "mse test loss: 77.00183053509754\n",
      "mae test loss: 6.440941431317391\n"
     ]
    },
    {
     "ename": "KeyboardInterrupt",
     "evalue": "ignored",
     "output_type": "error",
     "traceback": [
      "\u001b[0;31m---------------------------------------------------------------------------\u001b[0m",
      "\u001b[0;31mKeyboardInterrupt\u001b[0m                         Traceback (most recent call last)",
      "\u001b[0;32m<ipython-input-175-0fd1929750ab>\u001b[0m in \u001b[0;36m<module>\u001b[0;34m()\u001b[0m\n\u001b[1;32m     27\u001b[0m         \u001b[0mA\u001b[0m \u001b[0;34m=\u001b[0m \u001b[0mV_user_i\u001b[0m\u001b[0;34m.\u001b[0m\u001b[0mT\u001b[0m\u001b[0;34m.\u001b[0m\u001b[0mdot\u001b[0m\u001b[0;34m(\u001b[0m\u001b[0mV_user_i\u001b[0m\u001b[0;34m)\u001b[0m \u001b[0;34m+\u001b[0m \u001b[0mlambda_\u001b[0m\u001b[0;34m*\u001b[0m\u001b[0mnp\u001b[0m\u001b[0;34m.\u001b[0m\u001b[0meye\u001b[0m\u001b[0;34m(\u001b[0m\u001b[0md\u001b[0m\u001b[0;34m)\u001b[0m\u001b[0;34m\u001b[0m\u001b[0;34m\u001b[0m\u001b[0m\n\u001b[1;32m     28\u001b[0m         \u001b[0mb\u001b[0m \u001b[0;34m=\u001b[0m \u001b[0mV_user_i\u001b[0m\u001b[0;34m.\u001b[0m\u001b[0mT\u001b[0m\u001b[0;34m.\u001b[0m\u001b[0mdot\u001b[0m\u001b[0;34m(\u001b[0m\u001b[0mR_joke_i\u001b[0m\u001b[0;34m)\u001b[0m\u001b[0;34m\u001b[0m\u001b[0;34m\u001b[0m\u001b[0m\n\u001b[0;32m---> 29\u001b[0;31m         \u001b[0mU\u001b[0m\u001b[0;34m[\u001b[0m\u001b[0mi\u001b[0m\u001b[0;34m,\u001b[0m\u001b[0;34m:\u001b[0m\u001b[0;34m]\u001b[0m \u001b[0;34m=\u001b[0m \u001b[0mnp\u001b[0m\u001b[0;34m.\u001b[0m\u001b[0mlinalg\u001b[0m\u001b[0;34m.\u001b[0m\u001b[0msolve\u001b[0m\u001b[0;34m(\u001b[0m\u001b[0mA\u001b[0m\u001b[0;34m,\u001b[0m\u001b[0mb\u001b[0m\u001b[0;34m)\u001b[0m\u001b[0;34m\u001b[0m\u001b[0;34m\u001b[0m\u001b[0m\n\u001b[0m\u001b[1;32m     30\u001b[0m \u001b[0;34m\u001b[0m\u001b[0m\n\u001b[1;32m     31\u001b[0m     \u001b[0;31m#loss.append(mse(n,m,U,V,S_mat, S_dict,average = False))\u001b[0m\u001b[0;34m\u001b[0m\u001b[0;34m\u001b[0m\u001b[0;34m\u001b[0m\u001b[0m\n",
      "\u001b[0;32m/usr/local/lib/python3.6/dist-packages/numpy/linalg/linalg.py\u001b[0m in \u001b[0;36msolve\u001b[0;34m(a, b)\u001b[0m\n\u001b[1;32m    388\u001b[0m     \u001b[0msignature\u001b[0m \u001b[0;34m=\u001b[0m \u001b[0;34m'DD->D'\u001b[0m \u001b[0;32mif\u001b[0m \u001b[0misComplexType\u001b[0m\u001b[0;34m(\u001b[0m\u001b[0mt\u001b[0m\u001b[0;34m)\u001b[0m \u001b[0;32melse\u001b[0m \u001b[0;34m'dd->d'\u001b[0m\u001b[0;34m\u001b[0m\u001b[0;34m\u001b[0m\u001b[0m\n\u001b[1;32m    389\u001b[0m     \u001b[0mextobj\u001b[0m \u001b[0;34m=\u001b[0m \u001b[0mget_linalg_error_extobj\u001b[0m\u001b[0;34m(\u001b[0m\u001b[0m_raise_linalgerror_singular\u001b[0m\u001b[0;34m)\u001b[0m\u001b[0;34m\u001b[0m\u001b[0;34m\u001b[0m\u001b[0m\n\u001b[0;32m--> 390\u001b[0;31m     \u001b[0mr\u001b[0m \u001b[0;34m=\u001b[0m \u001b[0mgufunc\u001b[0m\u001b[0;34m(\u001b[0m\u001b[0ma\u001b[0m\u001b[0;34m,\u001b[0m \u001b[0mb\u001b[0m\u001b[0;34m,\u001b[0m \u001b[0msignature\u001b[0m\u001b[0;34m=\u001b[0m\u001b[0msignature\u001b[0m\u001b[0;34m,\u001b[0m \u001b[0mextobj\u001b[0m\u001b[0;34m=\u001b[0m\u001b[0mextobj\u001b[0m\u001b[0;34m)\u001b[0m\u001b[0;34m\u001b[0m\u001b[0;34m\u001b[0m\u001b[0m\n\u001b[0m\u001b[1;32m    391\u001b[0m \u001b[0;34m\u001b[0m\u001b[0m\n\u001b[1;32m    392\u001b[0m     \u001b[0;32mreturn\u001b[0m \u001b[0mwrap\u001b[0m\u001b[0;34m(\u001b[0m\u001b[0mr\u001b[0m\u001b[0;34m.\u001b[0m\u001b[0mastype\u001b[0m\u001b[0;34m(\u001b[0m\u001b[0mresult_t\u001b[0m\u001b[0;34m,\u001b[0m \u001b[0mcopy\u001b[0m\u001b[0;34m=\u001b[0m\u001b[0;32mFalse\u001b[0m\u001b[0;34m)\u001b[0m\u001b[0;34m)\u001b[0m\u001b[0;34m\u001b[0m\u001b[0;34m\u001b[0m\u001b[0m\n",
      "\u001b[0;31mKeyboardInterrupt\u001b[0m: "
     ]
    }
   ],
   "source": [
    "#Method 3:\n",
    "\"\"\"\n",
    "The second scheme is to update $u_i$ once we go through all the jokes $j$ rated by user $i$. \n",
    "The update is solved through least square, either through ``back-slash'' in \\texttt{MATLAB}, or \\texttt{np.linalg.solve}, or \\texttt{cvxpy}.\n",
    "This method has less frequent updates, more computationally expensive, but can leverage some stable $Ax=b$ solvers. \n",
    "\"\"\"\n",
    "\n",
    "lambda_ = 0.001\n",
    "lr = 0.001\n",
    "d = 50\n",
    "U = np.random.randn(n,d)\n",
    "V = np.random.randn(m,d)\n",
    "loss = []\n",
    "for iter in range(50):\n",
    "    #fix u update v\n",
    "    for j in range(m): #m jokes\n",
    "        U_joke_j = U[joke_dict[j],:]\n",
    "        R_joke_j = []\n",
    "        for user_idx in joke_dict[j]:\n",
    "            R_joke_j.append(S_dict[(user_idx,j)])\n",
    "        R_joke_j = np.array(R_joke_j)\n",
    "        A = U_joke_j.T.dot(U_joke_j) + lambda_*np.eye(d) \n",
    "        b = U_joke_j.T.dot(R_joke_j)\n",
    "        V[j,:] = np.linalg.solve(A,b)\n",
    "    \n",
    "    \n",
    "    #fix v update u\n",
    "    for i in range(n): #n users\n",
    "        V_user_i = V[user_dict[i],:]\n",
    "        R_joke_i = []\n",
    "        for joke_idx in user_dict[i]:\n",
    "            R_joke_i.append(S_dict[(i,joke_idx)])\n",
    "        R_joke_i = np.array(R_joke_i)\n",
    "        A = V_user_i.T.dot(V_user_i) + lambda_*np.eye(d)\n",
    "        b = V_user_i.T.dot(R_joke_i)\n",
    "        U[i,:] = np.linalg.solve(A,b)\n",
    "    \n",
    "    #loss.append(mse(n,m,U,V,S_mat, S_dict,average = False))\n",
    "    print(\"mse train loss:\", mse(n,m,U,V,S_mat, S_dict, average = 0))\n",
    "    print(\"mae train loss:\", mae(n,m,U,V,S_mat, S_dict, average = 0))\n",
    "\n",
    "    print(\"mse test loss:\", mse(n,m,U,V,S_mat_test, S_dict_test, average = 0))\n",
    "    print(\"mae test loss:\", mae(n,m,U,V,S_mat_test, S_dict_test, average = 0))"
   ]
  },
  {
   "cell_type": "code",
   "execution_count": 0,
   "metadata": {
    "colab": {
     "base_uri": "https://localhost:8080/",
     "height": 85
    },
    "colab_type": "code",
    "id": "J1Ou0IwgKRH3",
    "outputId": "ba185291-f5b0-45c7-e608-3307fe7d32e4"
   },
   "outputs": [
    {
     "data": {
      "text/plain": [
       "array([ 8.79, -7.52, -8.5 ,  4.17, -4.76,  8.45, -7.52, -7.43, -9.81,\n",
       "       -9.37, -9.81, -8.5 ,  7.82,  7.82,  5.05,  4.95, -8.11, -9.03,\n",
       "       -9.08, -6.26,  3.79,  3.93, -8.69,  3.2 ,  0.92,  2.82, -8.64,\n",
       "        8.59,  3.59, -6.84, -9.03, -9.42,  2.82])"
      ]
     },
     "execution_count": 101,
     "metadata": {
      "tags": []
     },
     "output_type": "execute_result"
    }
   ],
   "source": [
    "S_mat.getrow(0).toarray()[S_mat.getrow(0).toarray().nonzero()]"
   ]
  },
  {
   "cell_type": "code",
   "execution_count": 0,
   "metadata": {
    "colab": {
     "base_uri": "https://localhost:8080/",
     "height": 34
    },
    "colab_type": "code",
    "id": "ibf9t_3XmVB1",
    "outputId": "a74eba60-aa66-4c6b-d8cb-72505f8cdbcc"
   },
   "outputs": [
    {
     "data": {
      "text/plain": [
       "True"
      ]
     },
     "execution_count": 17,
     "metadata": {
      "tags": []
     },
     "output_type": "execute_result"
    }
   ],
   "source": [
    "(1,2) in S_dict"
   ]
  },
  {
   "cell_type": "code",
   "execution_count": 0,
   "metadata": {
    "colab": {
     "base_uri": "https://localhost:8080/",
     "height": 34
    },
    "colab_type": "code",
    "id": "ZsKqyeKCvy9T",
    "outputId": "2198324a-6f09-48d6-b66e-8e6b81e1a987"
   },
   "outputs": [
    {
     "data": {
      "text/plain": [
       "904699"
      ]
     },
     "execution_count": 18,
     "metadata": {
      "tags": []
     },
     "output_type": "execute_result"
    }
   ],
   "source": [
    "len(S_dict)"
   ]
  },
  {
   "cell_type": "code",
   "execution_count": 0,
   "metadata": {
    "colab": {},
    "colab_type": "code",
    "collapsed": true,
    "id": "faxE5bTSxoZB"
   },
   "outputs": [],
   "source": [
    "# Method 1:\n",
    "U = np.ones(n)\n",
    "#Predict V\n",
    "V = np.zeros(m)\n",
    "for j in range(m):\n",
    "    if S_mat.getcol(j).nnz == 0:\n",
    "        V[j] = 0\n",
    "    else:\n",
    "        V[j] = S_mat.getcol(j).sum()/S_mat.getcol(j).nnz\n",
    "#print(\"MSE is: \", mse(n,m,U,V,S_mat, S_dict,average = True))\n",
    "#print(\"MAE is: \", mae(n,m,U,V,S_mat, S_dict))"
   ]
  },
  {
   "cell_type": "code",
   "execution_count": 0,
   "metadata": {
    "colab": {
     "base_uri": "https://localhost:8080/",
     "height": 85
    },
    "colab_type": "code",
    "id": "6-wL3ML3AJIn",
    "outputId": "f6d82051-7234-44cb-bb03-8b159143c26f"
   },
   "outputs": [
    {
     "name": "stdout",
     "output_type": "stream",
     "text": [
      "mse train loss: 24.870775408352657\n",
      "mae train loss: 4.114385496106998\n",
      "mse test loss: 24.867462528492833\n",
      "mae test loss: 4.113832606397694\n"
     ]
    }
   ],
   "source": [
    "print(\"mse train loss:\", mse(n,m,U,V,S_mat, S_dict, average = 1))\n",
    "print(\"mae train loss:\", mae(n,m,U,V,S_mat, S_dict, average = 1))\n",
    "\n",
    "print(\"mse test loss:\", mse(n,m,U,V,S_mat_test, S_dict_test, average = 1))\n",
    "print(\"mae test loss:\", mae(n,m,U,V,S_mat_test, S_dict_test, average = 1))"
   ]
  },
  {
   "cell_type": "code",
   "execution_count": 0,
   "metadata": {
    "colab": {
     "base_uri": "https://localhost:8080/",
     "height": 34
    },
    "colab_type": "code",
    "id": "SQg4KUKTAOet",
    "outputId": "a7c1df85-2585-4f59-d617-29734b8566c5"
   },
   "outputs": [
    {
     "name": "stdout",
     "output_type": "stream",
     "text": [
      "MAE is:  None\n"
     ]
    }
   ],
   "source": [
    "print(\"MAE is: \", mae(n,m,U,V,S_mat, S_dict, average = True))"
   ]
  },
  {
   "cell_type": "code",
   "execution_count": 0,
   "metadata": {
    "colab": {
     "base_uri": "https://localhost:8080/",
     "height": 102
    },
    "colab_type": "code",
    "id": "Z_Ac81cYGHJI",
    "outputId": "a22efcc0-2405-4ac1-b9cb-bde8b591c9f8"
   },
   "outputs": [
    {
     "name": "stdout",
     "output_type": "stream",
     "text": [
      "SVD 1 components\n",
      "mse train loss: [22.59066145]\n",
      "mae train loss: [3.96503648]\n",
      "mse test loss: [23.14808079]\n",
      "mae test loss: [4.01834341]\n"
     ]
    }
   ],
   "source": [
    "# Method 2\n",
    "d = [1]\n",
    "for e in d:\n",
    "    U, S, VT = svds(S_mat, k=e)\n",
    "    print(\"SVD {} components\".format(e))\n",
    "    U = U*S\n",
    "    print(\"mse train loss:\", mse(n,m,U,VT.T,S_mat, S_dict, average = 1))\n",
    "    print(\"mae train loss:\", mae(n,m,U,VT.T,S_mat, S_dict, average = 1))\n",
    "\n",
    "    print(\"mse test loss:\", mse(n,m,U,VT.T,S_mat_test, S_dict_test, average = 1))\n",
    "    print(\"mae test loss:\", mae(n,m,U,VT.T,S_mat_test, S_dict_test, average = 1))\n"
   ]
  },
  {
   "cell_type": "code",
   "execution_count": 0,
   "metadata": {
    "colab": {
     "base_uri": "https://localhost:8080/",
     "height": 34
    },
    "colab_type": "code",
    "id": "ZhlsBGg7ntLA",
    "outputId": "2f65f803-5ccb-41b0-efb3-0d52f29e1978"
   },
   "outputs": [
    {
     "data": {
      "text/plain": [
       "(5, 100)"
      ]
     },
     "execution_count": 144,
     "metadata": {
      "tags": []
     },
     "output_type": "execute_result"
    }
   ],
   "source": [
    "VT.shape"
   ]
  },
  {
   "cell_type": "code",
   "execution_count": 0,
   "metadata": {
    "colab": {
     "base_uri": "https://localhost:8080/",
     "height": 34
    },
    "colab_type": "code",
    "id": "0qDyNsatnu8g",
    "outputId": "d2e50015-c53d-4fdb-9401-e18512f78360"
   },
   "outputs": [
    {
     "data": {
      "text/plain": [
       "(24983, 5)"
      ]
     },
     "execution_count": 145,
     "metadata": {
      "tags": []
     },
     "output_type": "execute_result"
    }
   ],
   "source": [
    "U.shape"
   ]
  },
  {
   "cell_type": "code",
   "execution_count": 0,
   "metadata": {
    "colab": {
     "base_uri": "https://localhost:8080/",
     "height": 34
    },
    "colab_type": "code",
    "id": "kdXqngTAn0b7",
    "outputId": "0e0675e2-2a7b-4ce1-a674-5631dafb3351"
   },
   "outputs": [
    {
     "data": {
      "text/plain": [
       "(5,)"
      ]
     },
     "execution_count": 146,
     "metadata": {
      "tags": []
     },
     "output_type": "execute_result"
    }
   ],
   "source": [
    "S.shape"
   ]
  },
  {
   "cell_type": "code",
   "execution_count": 0,
   "metadata": {
    "colab": {
     "base_uri": "https://localhost:8080/",
     "height": 34
    },
    "colab_type": "code",
    "id": "qVBSg9DWoAw-",
    "outputId": "f5133133-4e80-4794-a064-2b2cd08a9c70"
   },
   "outputs": [
    {
     "data": {
      "text/plain": [
       "(24983, 100)"
      ]
     },
     "execution_count": 150,
     "metadata": {
      "tags": []
     },
     "output_type": "execute_result"
    }
   ],
   "source": [
    "U.dot(np.diag(S)).dot(VT).shape"
   ]
  },
  {
   "cell_type": "code",
   "execution_count": 0,
   "metadata": {
    "colab": {
     "base_uri": "https://localhost:8080/",
     "height": 34
    },
    "colab_type": "code",
    "id": "NYocYITpoFgX",
    "outputId": "89bb2e1a-7249-4fee-e551-28bb0584ad53"
   },
   "outputs": [
    {
     "data": {
      "text/plain": [
       "(24983, 2)"
      ]
     },
     "execution_count": 159,
     "metadata": {
      "tags": []
     },
     "output_type": "execute_result"
    }
   ],
   "source": [
    "(U*S).shape"
   ]
  },
  {
   "cell_type": "code",
   "execution_count": 0,
   "metadata": {
    "colab": {
     "base_uri": "https://localhost:8080/",
     "height": 34
    },
    "colab_type": "code",
    "id": "nVPOq_CprxQQ",
    "outputId": "006fb6a4-8902-45c7-a30f-4740fbc12ae3"
   },
   "outputs": [
    {
     "data": {
      "text/plain": [
       "(2, 100)"
      ]
     },
     "execution_count": 165,
     "metadata": {
      "tags": []
     },
     "output_type": "execute_result"
    }
   ],
   "source": [
    "VT.shape"
   ]
  },
  {
   "cell_type": "code",
   "execution_count": 0,
   "metadata": {
    "colab": {
     "base_uri": "https://localhost:8080/",
     "height": 376
    },
    "colab_type": "code",
    "id": "ADu6k3Dwsz4g",
    "outputId": "9b9ce3ad-5d1f-4a44-86c7-c69e7009ede8"
   },
   "outputs": [
    {
     "data": {
      "image/png": "[encoded data removed]",
      "text/plain": [
       "<Figure size 576x396 with 1 Axes>"
      ]
     },
     "metadata": {
      "tags": []
     },
     "output_type": "display_data"
    }
   ],
   "source": [
    "# Method 3\n",
    "msetrain = [19.83, 16.52, 13.62, 11.04,7.33,0.43]\n",
    "maetrain = [3.53, 3.18, 2.83, 2.52, 1.99, 0.359]\n",
    "msetest = [20.87, 18.60, 18.82, 23.63, 38.62, 77.63]\n",
    "maetest = [3.62, 3.37, 3.32, 3.64, 4.63, 6.41]\n",
    "d = [1,2,5,10,20,50]\n",
    "plt.plot(d,msetrain, label = \"mse train\")\n",
    "#plt.plot(d,maetrain, label = \"mae train\")\n",
    "plt.plot(d,msetest, label = \"mse test\")\n",
    "#plt.plot(d,maetest, label = \"mae test\")\n",
    "plt.legend()\n",
    "plt.title(\"Method 3: Matrix completion with gradient descent MSE\")\n",
    "plt.xlabel(\"d\")\n",
    "plt.ylabel(\"MSE loss\")\n",
    "plt.show()"
   ]
  },
  {
   "cell_type": "code",
   "execution_count": 0,
   "metadata": {
    "colab": {
     "base_uri": "https://localhost:8080/",
     "height": 376
    },
    "colab_type": "code",
    "id": "uL4txmzpxray",
    "outputId": "edbab6b4-8343-4ab5-8d8d-85b93c18911e"
   },
   "outputs": [
    {
     "data": {
      "image/png": "[encoded data removed]",
      "text/plain": [
       "<Figure size 576x396 with 1 Axes>"
      ]
     },
     "metadata": {
      "tags": []
     },
     "output_type": "display_data"
    }
   ],
   "source": [
    "# Method 3\n",
    "msetrain = [19.83, 16.52, 13.62, 11.04,7.33,0.43]\n",
    "maetrain = [3.53, 3.18, 2.83, 2.52, 1.99, 0.359]\n",
    "msetest = [20.87, 18.60, 18.82, 23.63, 38.62, 77.63]\n",
    "maetest = [3.62, 3.37, 3.32, 3.64, 4.63, 6.41]\n",
    "d = [1,2,5,10,20,50]\n",
    "#plt.plot(d,msetrain, label = \"mse train\")\n",
    "plt.plot(d,maetrain, label = \"mae train\")\n",
    "#plt.plot(d,msetest, label = \"mse test\")\n",
    "plt.plot(d,maetest, label = \"mae test\")\n",
    "plt.legend()\n",
    "plt.title(\"Method 3: Matrix completion with gradient descent MAE \")\n",
    "plt.xlabel(\"d\")\n",
    "plt.ylabel(\"MAE loss\")\n",
    "plt.show()"
   ]
  },
  {
   "cell_type": "code",
   "execution_count": 0,
   "metadata": {
    "colab": {
     "base_uri": "https://localhost:8080/",
     "height": 376
    },
    "colab_type": "code",
    "id": "JqRvgufTx0r1",
    "outputId": "c51c4819-b72c-495c-8441-ff30ac18f4b0"
   },
   "outputs": [
    {
     "data": {
      "image/png": "[encoded data removed]",
      "text/plain": [
       "<Figure size 576x396 with 1 Axes>"
      ]
     },
     "metadata": {
      "tags": []
     },
     "output_type": "display_data"
    }
   ],
   "source": [
    "# Method 2\n",
    "msetrain = [22.59, 20.37, 18.04, 15.66, 12.53, 6.06]\n",
    "maetrain = [3.96, 3.76, 3.52, 3.24, 2.79, 1.53]\n",
    "msetest = [23.14, 21.44, 20.52,20.56, 21.74, 25.28]\n",
    "maetest = [4.01, 3.86, 3.77, 3.76, 3.86, 4.21]\n",
    "d = [1,2,5,10,20,50]\n",
    "plt.plot(d,msetrain, label = \"mse train\")\n",
    "#plt.plot(d,maetrain, label = \"mae train\")\n",
    "plt.plot(d,msetest, label = \"mse test\")\n",
    "#plt.plot(d,maetest, label = \"mae test\")\n",
    "plt.legend()\n",
    "plt.title(\"Method 2: SVD MSE loss\")\n",
    "plt.xlabel(\"d\")\n",
    "plt.ylabel(\"MSE loss\")\n",
    "plt.show()"
   ]
  },
  {
   "cell_type": "code",
   "execution_count": 0,
   "metadata": {
    "colab": {
     "base_uri": "https://localhost:8080/",
     "height": 376
    },
    "colab_type": "code",
    "id": "iDDDQC5JxTYg",
    "outputId": "0b7673f6-0a82-4041-efe3-80832bf35ab3"
   },
   "outputs": [
    {
     "data": {
      "image/png": "[encoded data removed]",
      "text/plain": [
       "<Figure size 576x396 with 1 Axes>"
      ]
     },
     "metadata": {
      "tags": []
     },
     "output_type": "display_data"
    }
   ],
   "source": [
    "# Method 2\n",
    "msetrain = [22.59, 20.37, 18.04, 15.66, 12.53, 6.06]\n",
    "maetrain = [3.96, 3.76, 3.52, 3.24, 2.79, 1.53]\n",
    "msetest = [23.14, 21.44, 20.52,20.56, 21.74, 25.28]\n",
    "maetest = [4.01, 3.86, 3.77, 3.76, 3.86, 4.21]\n",
    "d = [1,2,5,10,20,50]\n",
    "#plt.plot(d,msetrain, label = \"mse train\")\n",
    "plt.plot(d,maetrain, label = \"mae train\")\n",
    "#plt.plot(d,msetest, label = \"mse test\")\n",
    "plt.plot(d,maetest, label = \"mae test\")\n",
    "plt.legend()\n",
    "plt.title(\"Method 2: SVD MAE loss\")\n",
    "plt.xlabel(\"d\")\n",
    "plt.ylabel(\"MAE loss\")\n",
    "plt.show()"
   ]
  },
  {
   "cell_type": "code",
   "execution_count": 0,
   "metadata": {
    "colab": {},
    "colab_type": "code",
    "collapsed": true,
    "id": "PeZishtGt8o5"
   },
   "outputs": [],
   "source": []
  }
 ],
 "metadata": {
  "colab": {
   "collapsed_sections": [],
   "name": "joke_recommendation.ipynb",
   "provenance": [],
   "version": "0.3.2"
  },
  "kernelspec": {
   "display_name": "Python 3",
   "language": "python",
   "name": "python3"
  },
  "language_info": {
   "codemirror_mode": {
    "name": "ipython",
    "version": 3
   },
   "file_extension": ".py",
   "mimetype": "text/x-python",
   "name": "python",
   "nbconvert_exporter": "python",
   "pygments_lexer": "ipython3",
   "version": "3.6.3"
  }
 },
 "nbformat": 4,
 "nbformat_minor": 1
}
